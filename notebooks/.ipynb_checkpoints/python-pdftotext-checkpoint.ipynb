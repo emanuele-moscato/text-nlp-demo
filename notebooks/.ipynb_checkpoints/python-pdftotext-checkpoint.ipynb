{
 "cells": [
  {
   "cell_type": "markdown",
   "metadata": {},
   "source": [
    "# Converting a pdf to text with pdftotext"
   ]
  },
  {
   "cell_type": "markdown",
   "metadata": {},
   "source": [
    "Source: https://github.com/jalan/pdftotext\n",
    "\n",
    "`pdftotext` needs to be installed first. Run the `install-pdftotext.sh` script in the parent directory to install it."
   ]
  },
  {
   "cell_type": "code",
   "execution_count": 27,
   "metadata": {},
   "outputs": [],
   "source": [
    "import pdftotext"
   ]
  },
  {
   "cell_type": "markdown",
   "metadata": {},
   "source": [
    "Read the file and convert to text."
   ]
  },
  {
   "cell_type": "code",
   "execution_count": 28,
   "metadata": {},
   "outputs": [],
   "source": [
    "with open('../data/Exhibit-A-SAMPLE-CONTRACT.pdf', 'rb') as f:\n",
    "    pdf = pdftotext.PDF(f)"
   ]
  },
  {
   "cell_type": "code",
   "execution_count": 29,
   "metadata": {},
   "outputs": [
    {
     "data": {
      "text/plain": [
       "pdftotext.PDF"
      ]
     },
     "execution_count": 29,
     "metadata": {},
     "output_type": "execute_result"
    }
   ],
   "source": [
    "type(pdf)"
   ]
  },
  {
   "cell_type": "markdown",
   "metadata": {},
   "source": [
    "A `pdftotext.PDF` object works like a list of strings, each of which corresponds to a page of the document.\n",
    "\n",
    "Number of pages."
   ]
  },
  {
   "cell_type": "code",
   "execution_count": 30,
   "metadata": {
    "scrolled": true
   },
   "outputs": [
    {
     "data": {
      "text/plain": [
       "11"
      ]
     },
     "execution_count": 30,
     "metadata": {},
     "output_type": "execute_result"
    }
   ],
   "source": [
    "len(pdf)"
   ]
  },
  {
   "cell_type": "markdown",
   "metadata": {},
   "source": [
    "Print one page."
   ]
  },
  {
   "cell_type": "code",
   "execution_count": 32,
   "metadata": {
    "scrolled": true
   },
   "outputs": [
    {
     "name": "stdout",
     "output_type": "stream",
     "text": [
      "                                 Exhibit A – Sample Contract\n",
      "SAMPLE CONTRACT\n",
      "     OFFICE OF HAWAIIAN AFFAIRS\n",
      "      CONTRACT NUMBER ________\n",
      "        REQUEST FOR PROPOSALS\n",
      "    PURCHASE OF GOODS AND SERVICES\n",
      "          CONTRACT BETWEEN\n",
      "      OFFICE OF HAWAIIAN AFFAIRS\n",
      "                 AND\n",
      "         XXXXXXXXXX\n",
      "\n"
     ]
    }
   ],
   "source": [
    "print(pdf[0])"
   ]
  },
  {
   "cell_type": "markdown",
   "metadata": {},
   "source": [
    "## Text vectorization"
   ]
  },
  {
   "cell_type": "code",
   "execution_count": 33,
   "metadata": {},
   "outputs": [],
   "source": [
    "from sklearn.feature_extraction.text import TfidfVectorizer\n",
    "from sklearn.decomposition import LatentDirichletAllocation"
   ]
  },
  {
   "cell_type": "code",
   "execution_count": 67,
   "metadata": {},
   "outputs": [],
   "source": [
    "tf_vectorizer = TfidfVectorizer(\n",
    "    stop_words='english',\n",
    "    max_df=0.95,\n",
    "    min_df=2,\n",
    "    use_idf=False,\n",
    "    ngram_range=(1,1),\n",
    "    max_features=5000\n",
    ")\n",
    "tf_vectors = tf_vectorizer.fit_transform(pdf)"
   ]
  },
  {
   "cell_type": "code",
   "execution_count": 68,
   "metadata": {},
   "outputs": [
    {
     "data": {
      "text/plain": [
       "(11, 121)"
      ]
     },
     "execution_count": 68,
     "metadata": {},
     "output_type": "execute_result"
    }
   ],
   "source": [
    "tf_vectors.shape"
   ]
  },
  {
   "cell_type": "code",
   "execution_count": 84,
   "metadata": {
    "scrolled": true
   },
   "outputs": [
    {
     "data": {
      "text/plain": [
       "['09',\n",
       " '10',\n",
       " '100',\n",
       " '12',\n",
       " '166',\n",
       " '200',\n",
       " '2016',\n",
       " '201__',\n",
       " '20___',\n",
       " '30',\n",
       " '50',\n",
       " '560',\n",
       " '712',\n",
       " '84',\n",
       " '96',\n",
       " '96817',\n",
       " '99',\n",
       " '______',\n",
       " '________',\n",
       " '_________',\n",
       " '___________',\n",
       " '____________',\n",
       " '_______________',\n",
       " '___________________',\n",
       " '_____________________',\n",
       " '______________________',\n",
       " '______________________________',\n",
       " '_________________________________',\n",
       " '______________________________________',\n",
       " '_______________________________________',\n",
       " '________________________________________',\n",
       " '__________________________________________',\n",
       " '_________circuit',\n",
       " '______day',\n",
       " 'accordance',\n",
       " 'according',\n",
       " 'acknowledgement',\n",
       " 'acknowledges',\n",
       " 'acknowledgment',\n",
       " 'act',\n",
       " 'acting',\n",
       " 'actual',\n",
       " 'additionally',\n",
       " 'address',\n",
       " 'administrative',\n",
       " 'advantageous',\n",
       " 'affairs',\n",
       " 'agree',\n",
       " 'agreed',\n",
       " 'agreement',\n",
       " 'agrees',\n",
       " 'amended',\n",
       " 'appeared',\n",
       " 'applicable',\n",
       " 'apply',\n",
       " 'appointed',\n",
       " 'approval',\n",
       " 'approved',\n",
       " 'assist',\n",
       " 'assisted',\n",
       " 'attached',\n",
       " 'attachment',\n",
       " 'attachments',\n",
       " 'authority',\n",
       " 'authorized',\n",
       " 'availability',\n",
       " 'award',\n",
       " 'awarded',\n",
       " 'behalf',\n",
       " 'best',\n",
       " 'better',\n",
       " 'blank',\n",
       " 'board',\n",
       " 'boards',\n",
       " 'body',\n",
       " 'business',\n",
       " 'capacity',\n",
       " 'case',\n",
       " 'ceo',\n",
       " 'certificate',\n",
       " 'certification',\n",
       " 'change',\n",
       " 'chapter',\n",
       " 'chief',\n",
       " 'city',\n",
       " 'class',\n",
       " 'clearance',\n",
       " 'clearances',\n",
       " 'code',\n",
       " 'commencing',\n",
       " 'commission',\n",
       " 'commissions',\n",
       " 'committees',\n",
       " 'commonly',\n",
       " 'companion',\n",
       " 'compensated',\n",
       " 'compensation',\n",
       " 'competitive',\n",
       " 'completed',\n",
       " 'completion',\n",
       " 'compliance',\n",
       " 'comply',\n",
       " 'concerned',\n",
       " 'conditions',\n",
       " 'conduct',\n",
       " 'conflict',\n",
       " 'consideration',\n",
       " 'constitution',\n",
       " 'constitutional',\n",
       " 'contact',\n",
       " 'contract',\n",
       " 'contracting',\n",
       " 'contractor',\n",
       " 'control',\n",
       " 'controlling',\n",
       " 'convention',\n",
       " 'coordination',\n",
       " 'coordinator',\n",
       " 'copies',\n",
       " 'corporate',\n",
       " 'corporation',\n",
       " 'cost',\n",
       " 'costs',\n",
       " 'counsel',\n",
       " 'county',\n",
       " 'crabbe',\n",
       " 'current',\n",
       " 'currently',\n",
       " 'date',\n",
       " 'dates',\n",
       " 'day',\n",
       " 'days',\n",
       " 'debt',\n",
       " 'decisions',\n",
       " 'declaration',\n",
       " 'declarations',\n",
       " 'declare',\n",
       " 'deed',\n",
       " 'deemed',\n",
       " 'defined',\n",
       " 'delegates',\n",
       " 'deliverables',\n",
       " 'delivered',\n",
       " 'department',\n",
       " 'described',\n",
       " 'description',\n",
       " 'determined',\n",
       " 'development',\n",
       " 'did',\n",
       " 'directly',\n",
       " 'director',\n",
       " 'doc',\n",
       " 'document',\n",
       " 'does',\n",
       " 'dollar',\n",
       " 'dollars',\n",
       " 'duly',\n",
       " 'earlier',\n",
       " 'effective',\n",
       " 'elected',\n",
       " 'email',\n",
       " 'employee',\n",
       " 'employees',\n",
       " 'employment',\n",
       " 'end',\n",
       " 'entered',\n",
       " 'entry',\n",
       " 'equal',\n",
       " 'ernest',\n",
       " 'established',\n",
       " 'ethics',\n",
       " 'evaluated',\n",
       " 'evaluation',\n",
       " 'event',\n",
       " 'exceed',\n",
       " 'exceptional',\n",
       " 'excise',\n",
       " 'excluding',\n",
       " 'execute',\n",
       " 'executed',\n",
       " 'execution',\n",
       " 'executive',\n",
       " 'exercise',\n",
       " 'exhibit',\n",
       " 'expediting',\n",
       " 'expenses',\n",
       " 'expires',\n",
       " 'express',\n",
       " 'extend',\n",
       " 'extended',\n",
       " 'extension',\n",
       " 'extensions',\n",
       " 'fact',\n",
       " 'factors',\n",
       " 'federal',\n",
       " 'fee',\n",
       " 'fees',\n",
       " 'final',\n",
       " 'following',\n",
       " 'follows',\n",
       " 'foregoing',\n",
       " 'form',\n",
       " 'forth',\n",
       " 'free',\n",
       " 'funds',\n",
       " 'general',\n",
       " 'gift',\n",
       " 'given',\n",
       " 'goods',\n",
       " 'govern',\n",
       " 'greater',\n",
       " 'hawai',\n",
       " 'hawaii',\n",
       " 'hawaiian',\n",
       " 'hawaiians',\n",
       " 'hawaiʻi',\n",
       " 'hereto',\n",
       " 'highway',\n",
       " 'honolulu',\n",
       " 'hours',\n",
       " 'hr',\n",
       " 'hrs',\n",
       " 'id',\n",
       " 'identification',\n",
       " 'included',\n",
       " 'including',\n",
       " 'inclusive',\n",
       " 'incorporated',\n",
       " 'incurring',\n",
       " 'individual',\n",
       " 'initial',\n",
       " 'instrument',\n",
       " 'intentionally',\n",
       " 'internal',\n",
       " 'invoice',\n",
       " 'involved',\n",
       " 'islands',\n",
       " 'issued',\n",
       " 'job',\n",
       " 'judges',\n",
       " 'jurisdiction',\n",
       " 'justices',\n",
       " 'ka',\n",
       " 'kamana',\n",
       " 'kimoto',\n",
       " 'known',\n",
       " 'law',\n",
       " 'left',\n",
       " 'legislator',\n",
       " 'legislators',\n",
       " 'legislature',\n",
       " 'length',\n",
       " 'liaison',\n",
       " 'lieu',\n",
       " 'limited',\n",
       " 'listed',\n",
       " 'location',\n",
       " 'mail',\n",
       " 'mailing',\n",
       " 'manner',\n",
       " 'matter',\n",
       " 'matters',\n",
       " 'maximum',\n",
       " 'means',\n",
       " 'members',\n",
       " 'monitor',\n",
       " 'months',\n",
       " 'mutual',\n",
       " 'mutually',\n",
       " 'named',\n",
       " 'native',\n",
       " 'necessary',\n",
       " 'need',\n",
       " 'negotiated',\n",
       " 'neighbor',\n",
       " 'nimitz',\n",
       " 'nominated',\n",
       " 'north',\n",
       " 'notarization',\n",
       " 'notary',\n",
       " 'notice',\n",
       " 'notices',\n",
       " 'notifying',\n",
       " 'number',\n",
       " 'oahu',\n",
       " 'obtain',\n",
       " 'offeror',\n",
       " 'office',\n",
       " 'officer',\n",
       " 'official',\n",
       " 'offset',\n",
       " 'oha',\n",
       " 'opono',\n",
       " 'option',\n",
       " 'ordinary',\n",
       " 'owed',\n",
       " 'paepae',\n",
       " 'page',\n",
       " 'pages',\n",
       " 'paid',\n",
       " 'paragraph',\n",
       " 'participated',\n",
       " 'parties',\n",
       " 'party',\n",
       " 'past',\n",
       " 'pay',\n",
       " 'payable',\n",
       " 'payment',\n",
       " 'payments',\n",
       " 'penalty',\n",
       " 'percent',\n",
       " 'perform',\n",
       " 'performance',\n",
       " 'performed',\n",
       " 'period',\n",
       " 'perjury',\n",
       " 'person',\n",
       " 'personally',\n",
       " 'ph',\n",
       " 'phase',\n",
       " 'phone',\n",
       " 'place',\n",
       " 'policy',\n",
       " 'position',\n",
       " 'positions',\n",
       " 'postage',\n",
       " 'pouhana',\n",
       " 'preceding',\n",
       " 'prepaid',\n",
       " 'presentment',\n",
       " 'president',\n",
       " 'principal',\n",
       " 'print',\n",
       " 'printed',\n",
       " 'prior',\n",
       " 'profit',\n",
       " 'project',\n",
       " 'proper',\n",
       " 'proposal',\n",
       " 'proposals',\n",
       " 'provide',\n",
       " 'provided',\n",
       " 'provision',\n",
       " 'provisions',\n",
       " 'public',\n",
       " 'purchase',\n",
       " 'purposes',\n",
       " 'pursuant',\n",
       " 'qualifications',\n",
       " 'questions',\n",
       " 'rate',\n",
       " 'reasonable',\n",
       " 'receipt',\n",
       " 'received',\n",
       " 'reconciliation',\n",
       " 'recovered',\n",
       " 'reference',\n",
       " 'referred',\n",
       " 'related',\n",
       " 'render',\n",
       " 'rendered',\n",
       " 'report',\n",
       " 'reports',\n",
       " 'represented',\n",
       " 'request',\n",
       " 'required',\n",
       " 'requirements',\n",
       " 'resolving',\n",
       " 'resources',\n",
       " 'responsible',\n",
       " 'responsive',\n",
       " 'result',\n",
       " 'retain',\n",
       " 'retained',\n",
       " 'revenue',\n",
       " 'review',\n",
       " 'revised',\n",
       " 'rfp',\n",
       " 'right',\n",
       " 'roe',\n",
       " 'rules',\n",
       " 's1',\n",
       " 's2',\n",
       " 's3',\n",
       " 's4',\n",
       " 's5',\n",
       " 'said',\n",
       " 'sample',\n",
       " 'satisfactorily',\n",
       " 'satisfactory',\n",
       " 'say',\n",
       " 'schedule',\n",
       " 'scope',\n",
       " 'seal',\n",
       " 'sealed',\n",
       " 'sec',\n",
       " 'sections',\n",
       " 'security',\n",
       " 'sent',\n",
       " 'served',\n",
       " 'service',\n",
       " 'services',\n",
       " 'set',\n",
       " 'shall',\n",
       " 'sign',\n",
       " 'signature',\n",
       " 'signatures',\n",
       " 'signing',\n",
       " 'sooner',\n",
       " 'source',\n",
       " 'space',\n",
       " 'special',\n",
       " 'specific',\n",
       " 'specified',\n",
       " 'ss',\n",
       " 'stamp',\n",
       " 'standardization',\n",
       " 'standards',\n",
       " 'state',\n",
       " 'stated',\n",
       " 'statement',\n",
       " 'states',\n",
       " 'statues',\n",
       " 'statutes',\n",
       " 'subject',\n",
       " 'submit',\n",
       " 'submittal',\n",
       " 'submitted',\n",
       " 'sufficient',\n",
       " 'suite',\n",
       " 'supplemental',\n",
       " 'sworn',\n",
       " 'tax',\n",
       " 'taxation',\n",
       " 'term',\n",
       " 'terminated',\n",
       " 'termination',\n",
       " 'terms',\n",
       " 'thirty',\n",
       " 'time',\n",
       " 'title',\n",
       " 'titles',\n",
       " 'tmk',\n",
       " 'total',\n",
       " 'trustees',\n",
       " 'undated',\n",
       " 'undersigned',\n",
       " 'understands',\n",
       " 'understood',\n",
       " 'undertaking',\n",
       " 'united',\n",
       " 'unless',\n",
       " 'valid',\n",
       " 'vendor',\n",
       " 'view',\n",
       " 'violation',\n",
       " 'voidable',\n",
       " 'whichever',\n",
       " 'withheld',\n",
       " 'work',\n",
       " 'worked',\n",
       " 'writing',\n",
       " 'written',\n",
       " 'xxx',\n",
       " 'xxxxxx',\n",
       " 'xxxxxxxxxx',\n",
       " 'years']"
      ]
     },
     "execution_count": 84,
     "metadata": {},
     "output_type": "execute_result"
    }
   ],
   "source": [
    "tfidf_vectorizer.get_feature_names()"
   ]
  },
  {
   "cell_type": "markdown",
   "metadata": {},
   "source": [
    "## Dimensional reduction and plotting"
   ]
  },
  {
   "cell_type": "code",
   "execution_count": 80,
   "metadata": {},
   "outputs": [
    {
     "data": {
      "text/html": [
       "<script>requirejs.config({paths: { 'plotly': ['https://cdn.plot.ly/plotly-latest.min']},});if(!window.Plotly) {{require(['plotly'],function(plotly) {window.Plotly=plotly;});}}</script>"
      ],
      "text/vnd.plotly.v1+html": [
       "<script>requirejs.config({paths: { 'plotly': ['https://cdn.plot.ly/plotly-latest.min']},});if(!window.Plotly) {{require(['plotly'],function(plotly) {window.Plotly=plotly;});}}</script>"
      ]
     },
     "metadata": {},
     "output_type": "display_data"
    }
   ],
   "source": [
    "from sklearn.decomposition import TruncatedSVD\n",
    "from plotly.offline import iplot, init_notebook_mode\n",
    "import plotly.graph_objs as go\n",
    "\n",
    "init_notebook_mode(connected=True)"
   ]
  },
  {
   "cell_type": "code",
   "execution_count": 77,
   "metadata": {},
   "outputs": [],
   "source": [
    "tsvd = TruncatedSVD(n_components=2)"
   ]
  },
  {
   "cell_type": "code",
   "execution_count": 78,
   "metadata": {},
   "outputs": [],
   "source": [
    "X_red = tsvd.fit_transform(tf_vectors)"
   ]
  },
  {
   "cell_type": "code",
   "execution_count": 79,
   "metadata": {},
   "outputs": [
    {
     "data": {
      "text/plain": [
       "(11, 2)"
      ]
     },
     "execution_count": 79,
     "metadata": {},
     "output_type": "execute_result"
    }
   ],
   "source": [
    "X_red.shape"
   ]
  },
  {
   "cell_type": "code",
   "execution_count": 83,
   "metadata": {},
   "outputs": [
    {
     "data": {
      "application/vnd.plotly.v1+json": {
       "data": [
        {
         "mode": "markers",
         "type": "scatter",
         "x": [
          0.13001657086025845,
          0.6275554808221193,
          0.6900784960311022,
          0.6345061088783877,
          0.6711327266534513,
          0.6395446312047788,
          0.7040152126280446,
          0.7163103542839954,
          0.6966535312490559,
          0.6756796513774574,
          0.7832541950699013
         ],
         "y": [
          0.6014818740837353,
          0.5293279769760961,
          -0.09779921520052465,
          0.30770518194623486,
          0.25886019642493435,
          0.2867084628486436,
          -0.1648027524489918,
          -0.14431107825020584,
          -0.4494578666200503,
          -0.29346559365869895,
          -0.2099306590726914
         ]
        }
       ],
       "layout": {}
      },
      "text/html": [
       "<div id=\"c19830ba-38e8-4d1d-a734-f6de7c73b6e7\" style=\"height: 525px; width: 100%;\" class=\"plotly-graph-div\"></div><script type=\"text/javascript\">require([\"plotly\"], function(Plotly) { window.PLOTLYENV=window.PLOTLYENV || {};window.PLOTLYENV.BASE_URL=\"https://plot.ly\";Plotly.newPlot(\"c19830ba-38e8-4d1d-a734-f6de7c73b6e7\", [{\"type\": \"scatter\", \"x\": [0.13001657086025845, 0.6275554808221193, 0.6900784960311022, 0.6345061088783877, 0.6711327266534513, 0.6395446312047788, 0.7040152126280446, 0.7163103542839954, 0.6966535312490559, 0.6756796513774574, 0.7832541950699013], \"y\": [0.6014818740837353, 0.5293279769760961, -0.09779921520052465, 0.30770518194623486, 0.25886019642493435, 0.2867084628486436, -0.1648027524489918, -0.14431107825020584, -0.4494578666200503, -0.29346559365869895, -0.2099306590726914], \"mode\": \"markers\"}], {}, {\"showLink\": true, \"linkText\": \"Export to plot.ly\"})});</script>"
      ],
      "text/vnd.plotly.v1+html": [
       "<div id=\"c19830ba-38e8-4d1d-a734-f6de7c73b6e7\" style=\"height: 525px; width: 100%;\" class=\"plotly-graph-div\"></div><script type=\"text/javascript\">require([\"plotly\"], function(Plotly) { window.PLOTLYENV=window.PLOTLYENV || {};window.PLOTLYENV.BASE_URL=\"https://plot.ly\";Plotly.newPlot(\"c19830ba-38e8-4d1d-a734-f6de7c73b6e7\", [{\"type\": \"scatter\", \"x\": [0.13001657086025845, 0.6275554808221193, 0.6900784960311022, 0.6345061088783877, 0.6711327266534513, 0.6395446312047788, 0.7040152126280446, 0.7163103542839954, 0.6966535312490559, 0.6756796513774574, 0.7832541950699013], \"y\": [0.6014818740837353, 0.5293279769760961, -0.09779921520052465, 0.30770518194623486, 0.25886019642493435, 0.2867084628486436, -0.1648027524489918, -0.14431107825020584, -0.4494578666200503, -0.29346559365869895, -0.2099306590726914], \"mode\": \"markers\"}], {}, {\"showLink\": true, \"linkText\": \"Export to plot.ly\"})});</script>"
      ]
     },
     "metadata": {},
     "output_type": "display_data"
    }
   ],
   "source": [
    "trace = go.Scatter(\n",
    "    x = X_red[:,0],\n",
    "    y = X_red[:,1],\n",
    "    mode='markers'\n",
    ")\n",
    "\n",
    "data = [trace]\n",
    "\n",
    "fig = go.Figure(data=data)\n",
    "\n",
    "iplot(fig)"
   ]
  },
  {
   "cell_type": "markdown",
   "metadata": {},
   "source": [
    "## LDA for topic analysis"
   ]
  },
  {
   "cell_type": "code",
   "execution_count": 69,
   "metadata": {},
   "outputs": [],
   "source": [
    "lda = LatentDirichletAllocation(\n",
    "    n_components=5, max_iter=20, random_state=42, learning_method='batch'\n",
    ")\n",
    "\n",
    "lda_vectors = lda.fit_transform(tf_vectors)"
   ]
  },
  {
   "cell_type": "code",
   "execution_count": 70,
   "metadata": {},
   "outputs": [],
   "source": [
    "def print_top_words(model, feature_names, n_top_words):\n",
    "    for topic_idx, topic in enumerate(model.components_):\n",
    "        top_words = \" \".join(\n",
    "            [feature_names[i] for i in topic.argsort()[:-n_top_words - 1:-1]]\n",
    "        )\n",
    "        print(\"Topic #{}: {}\".format(topic_idx, top_words))\n",
    "    print()"
   ]
  },
  {
   "cell_type": "code",
   "execution_count": 71,
   "metadata": {},
   "outputs": [
    {
     "name": "stdout",
     "output_type": "stream",
     "text": [
      "Topic #0: hawaiian affairs office\n",
      "Topic #1: contractor oha shall\n",
      "Topic #2: ________ goods proposals\n",
      "Topic #3: ________ goods proposals\n",
      "Topic #4: ________ goods proposals\n",
      "\n"
     ]
    }
   ],
   "source": [
    "print_top_words(lda, tf_vectorizer.get_feature_names(), 3)"
   ]
  }
 ],
 "metadata": {
  "kernelspec": {
   "display_name": "Python [conda env:Python3]",
   "language": "python",
   "name": "conda-env-Python3-py"
  },
  "language_info": {
   "codemirror_mode": {
    "name": "ipython",
    "version": 3
   },
   "file_extension": ".py",
   "mimetype": "text/x-python",
   "name": "python",
   "nbconvert_exporter": "python",
   "pygments_lexer": "ipython3",
   "version": "3.6.4"
  }
 },
 "nbformat": 4,
 "nbformat_minor": 2
}
