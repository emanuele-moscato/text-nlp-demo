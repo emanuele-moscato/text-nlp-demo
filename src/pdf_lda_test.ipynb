{
 "cells": [
  {
   "cell_type": "code",
   "execution_count": 44,
   "metadata": {},
   "outputs": [],
   "source": [
    "import pdftotext\n",
    "from os import listdir\n",
    "from os.path import join, isfile\n",
    "import os\n",
    "import base64"
   ]
  },
  {
   "cell_type": "markdown",
   "metadata": {},
   "source": [
    "Set data and output folder paths."
   ]
  },
  {
   "cell_type": "code",
   "execution_count": 46,
   "metadata": {},
   "outputs": [],
   "source": [
    "DATA_DIR = '../data/'\n",
    "OUTPUT_DIR = '../output/'\n",
    "UPLOAD_DIR = '../app/app-uploaded-files/'"
   ]
  },
  {
   "cell_type": "markdown",
   "metadata": {},
   "source": [
    "List the all files in the data folder."
   ]
  },
  {
   "cell_type": "code",
   "execution_count": 11,
   "metadata": {},
   "outputs": [
    {
     "data": {
      "text/plain": [
       "['example_02.png',\n",
       " 'samplecontract.pdf',\n",
       " 'cleaning-contract-template-image.jpg',\n",
       " 'ProfessionalServiceContract.pdf',\n",
       " 'example_03.png',\n",
       " 'Exhibit-A-SAMPLE-CONTRACT.pdf',\n",
       " 'example_01.png']"
      ]
     },
     "execution_count": 11,
     "metadata": {},
     "output_type": "execute_result"
    }
   ],
   "source": [
    "input_files = [\n",
    "    filename for filename in listdir(DATA_DIR)\n",
    "        if isfile(join(DATA_DIR, filename))\n",
    "]\n",
    "\n",
    "input_files"
   ]
  },
  {
   "cell_type": "markdown",
   "metadata": {},
   "source": [
    "List all the pdf files in the data folder."
   ]
  },
  {
   "cell_type": "code",
   "execution_count": 12,
   "metadata": {},
   "outputs": [
    {
     "data": {
      "text/plain": [
       "['samplecontract.pdf',\n",
       " 'ProfessionalServiceContract.pdf',\n",
       " 'Exhibit-A-SAMPLE-CONTRACT.pdf']"
      ]
     },
     "execution_count": 12,
     "metadata": {},
     "output_type": "execute_result"
    }
   ],
   "source": [
    "input_pdfs = [\n",
    "    filename for filename in input_files\n",
    "        if filename.split('.')[-1]=='pdf'\n",
    "]\n",
    "\n",
    "input_pdfs"
   ]
  },
  {
   "cell_type": "markdown",
   "metadata": {},
   "source": [
    "Convert all the pdf files in the data folder to text using pdftotext. The `documents` dictionary contains the text extracted from each file (with the file name as the key)."
   ]
  },
  {
   "cell_type": "code",
   "execution_count": 13,
   "metadata": {},
   "outputs": [],
   "source": [
    "documents = {}\n",
    "\n",
    "for filename in input_pdfs:\n",
    "    with open(join(DATA_DIR, filename), 'rb') as f:\n",
    "        pdf = pdftotext.PDF(f)\n",
    "\n",
    "        documents[filename] = ''.join(pdf)"
   ]
  },
  {
   "cell_type": "code",
   "execution_count": 15,
   "metadata": {},
   "outputs": [
    {
     "data": {
      "text/plain": [
       "dict_keys(['samplecontract.pdf', 'ProfessionalServiceContract.pdf', 'Exhibit-A-SAMPLE-CONTRACT.pdf'])"
      ]
     },
     "execution_count": 15,
     "metadata": {},
     "output_type": "execute_result"
    }
   ],
   "source": [
    "documents.keys()"
   ]
  },
  {
   "cell_type": "code",
   "execution_count": 16,
   "metadata": {
    "scrolled": true
   },
   "outputs": [
    {
     "data": {
      "text/plain": [
       "'Samples are provided for reference only. Always consult current legislation in your jurisdiction to create\\npolicies and procedures and contracts for your organization.\\n                                SAMPLE AGREEMENT\\nThis Agreement is entered into as of the XX day of October, 200X, between\\n___________(“the Committee”) and ____________ (“the Contractor”).\\n1. Independent Contractor. Subject to the terms and conditions of this Agreement, the\\n     Committee hereby engages the Contractor as an independent contractor to perform\\n     the services set forth herein, and the Contractor hereby accepts such engagement.\\n2. Duties, Term, and Compensation. The Contractor’s duties, term of engagement,\\n     compensation and provisions for payment thereof shall be as set forth in the budget\\n     which is attached as Schedule A, which may be amended in writing from time to\\n     time, or supplemented with subsequent estimates for services to be rendered by the\\n     Contractor and agreed to by the Committee, and which collectively are hereby\\n     incorporated by reference.\\n3. Expenses. During the term of this Agreement, the Contractor shall bill and the\\n     Committee shall reimburse her for all reasonable and approved out-of-pocket\\n     expenses as set forth in Schedule A which are incurred in connection with the\\n     performance of the duties hereunder.\\n4. Written Reports. The Committee may request that project plans, progress reports\\n     and a final results report be provided by Consultant.. A final results report shall be\\n     due at the conclusion of the project and shall be submitted to the Committee in a\\n     confidential written report at such time. The results report shall be in such form and\\n     setting forth such information and data as is reasonably requested by the Committee.\\n5. Confidentiality. Upon the expiration or earlier termination of this Agreement, or\\n     whenever requested by the Committee, the Contractor shall immediately deliver to\\n     the Committee all such files, records, documents, specifications, information, and\\n     other items in her possession or under her control. The Contractor further agrees\\n     that she will not disclose her retention as an independent contractor or the terms of\\n     this Agreement to any person without the prior written consent of the Committee and\\n     shall at all times preserve the confidential nature of her relationship to the Committee\\n     and of the services hereunder.\\n6. Conflicts of Interest; The Contractor represents that she is free to enter into this\\n     Agreement and that this engagement does not violate the terms of any agreement\\n     between the Contractor and any third party. During the term of this agreement, the\\n     Contractor shall devote as much of her productive time, energy and abilities to the\\n     performance of her duties hereunder as is necessary to perform the required duties\\n     in a timely and productive manner. The Contractor is expressly free to perform\\n     services for other parties while performing services for the Committee.\\n7. Termination. The Committee may terminate this Agreement at any time by 10\\n     working days’ written notice to the Contractor. In addition, if the Contractor is\\n     convicted of any crime or offense, fails or refuses to comply with the written policies\\n     or reasonable directive of the Committee, is guilty of serious misconduct in\\n     connection with performance hereunder, or materially breaches provisions of this\\n     Agreement, the Committee at any time may terminate the engagement of the\\n     Contractor immediately and without prior written notice to the Contractor.\\n8. Independent Contractor. This Agreement shall not render the Contractor an\\n    employee, partner, agent of, or joint venturer with the Committee for any purpose.\\n    The Contractor is and will remain an independent contractor in her relationship to the\\n    Committee. The Committee shall not be responsible for withholding taxes with\\n    respect to the Contractor’s compensation hereunder. The Contractor shall have no\\n    claim against the Committee hereunder or otherwise for vacation pay, sick leave,\\n    retirement benefits, social security, worker’s compensation, health or disability\\n    benefits, unemployment insurance benefits, or employee benefits of any kind.\\n9. Insurance. The Contractor will carry liability insurance (including malpractice\\n    insurance, if warranted) relative to any service that she performs for the Committee.\\n10. Assignment. The Contractor shall not assign any of her rights under this Agreement,\\n    or delegate the performance of any of her duties hereunder, without the prior written\\n    consent of the Committee.\\n11. Modification or Amendment. No amendment, change or modification of this\\n    Agreement shall be valid unless in writing signed by the parties hereto.\\n12. Entire Understanding. This document and any exhibit attached constitute the entire\\n    understanding and agreement of the parties, and any and all prior agreements,\\n    understandings, and representations are hereby terminated and canceled in their\\n    entirety and are of no further force and effect.\\n13. Unenforceability of Provisions. If any provision of this Agreement, or any portion\\n    thereof, is held to be invalid and unenforceable, then the remainder of this\\n    Agreement shall nevertheless remain in full force and effect.\\nIN WITNESS WHEREOF the undersigned have executed this Agreement as of the day\\nand year first written above. The parties hereto agree that facsimile signatures shall be\\nas effective as if originals.\\nBy:_______________________                             By:___________________\\nSCHEDULE A\\n                      DUTIES, TERM, AND COMPENSATION\\nDUTIES:    The Contractor will:\\nTERM:      This engagement shall commence upon execution of this Agreement and\\n           shall continue in full force and effect through January 15,2004 or earlier\\n           upon completion of the Contractor’s duties under this Agreement. The\\n           Agreement may only be extended thereafter by mutual agreement,\\n           unless terminated earlier by operation of and in accordance with this\\n           Agreement.\\nCOMPENSATION:\\n            As full compensation for the services rendered pursuant to this\\n           Agreement, the Committee shall pay the Contractor at the hourly rate of\\n           ________ per hour, with total payment not to exceed________ without\\n           prior written approval by an authorized representative of the Committee.\\n           Such compensation shall be payable within 30 days of receipt of\\n           Contractor’s monthly invoice for services rendered supported by\\n           reasonable documentation.\\nEXPENSES:\\n'"
      ]
     },
     "execution_count": 16,
     "metadata": {},
     "output_type": "execute_result"
    }
   ],
   "source": [
    "documents['samplecontract.pdf']"
   ]
  },
  {
   "cell_type": "markdown",
   "metadata": {},
   "source": [
    "Test functions from `pdf_lda.py`."
   ]
  },
  {
   "cell_type": "code",
   "execution_count": 28,
   "metadata": {},
   "outputs": [],
   "source": [
    "from pdf_lda import *"
   ]
  },
  {
   "cell_type": "code",
   "execution_count": 35,
   "metadata": {},
   "outputs": [],
   "source": [
    "from importlib import reload\n",
    "import pdf_lda\n",
    "reload(pdf_lda)\n",
    "from pdf_lda import *"
   ]
  },
  {
   "cell_type": "code",
   "execution_count": 36,
   "metadata": {
    "scrolled": true
   },
   "outputs": [
    {
     "data": {
      "text/plain": [
       "['samplecontract.pdf',\n",
       " 'ProfessionalServiceContract.pdf',\n",
       " 'Exhibit-A-SAMPLE-CONTRACT.pdf']"
      ]
     },
     "execution_count": 36,
     "metadata": {},
     "output_type": "execute_result"
    }
   ],
   "source": [
    "list_input_files()"
   ]
  },
  {
   "cell_type": "code",
   "execution_count": 37,
   "metadata": {
    "scrolled": true
   },
   "outputs": [
    {
     "data": {
      "text/plain": [
       "['hawaiian affairs office',\n",
       " 'contractor oha shall',\n",
       " '________ goods proposals',\n",
       " '________ goods proposals',\n",
       " '________ goods proposals']"
      ]
     },
     "execution_count": 37,
     "metadata": {},
     "output_type": "execute_result"
    }
   ],
   "source": [
    "extract_topics('Exhibit-A-SAMPLE-CONTRACT.pdf')"
   ]
  },
  {
   "cell_type": "code",
   "execution_count": 42,
   "metadata": {
    "scrolled": true
   },
   "outputs": [
    {
     "name": "stdout",
     "output_type": "stream",
     "text": [
      "['samplecontract.pdf', 'ProfessionalServiceContract.pdf', 'Exhibit-A-SAMPLE-CONTRACT.pdf', 'bb']\n"
     ]
    }
   ],
   "source": [
    "print(list_input_files()+['bb'])"
   ]
  },
  {
   "cell_type": "code",
   "execution_count": 49,
   "metadata": {},
   "outputs": [
    {
     "data": {
      "text/plain": [
       "['apocalypse-now-helicopters.jpg', 'samplecontract.pdf', 'boarding-pass.pdf']"
      ]
     },
     "execution_count": 49,
     "metadata": {},
     "output_type": "execute_result"
    }
   ],
   "source": [
    "os.listdir(UPLOAD_DIR)"
   ]
  }
 ],
 "metadata": {
  "kernelspec": {
   "display_name": "Python [conda env:Python3]",
   "language": "python",
   "name": "conda-env-Python3-py"
  },
  "language_info": {
   "codemirror_mode": {
    "name": "ipython",
    "version": 3
   },
   "file_extension": ".py",
   "mimetype": "text/x-python",
   "name": "python",
   "nbconvert_exporter": "python",
   "pygments_lexer": "ipython3",
   "version": "3.6.4"
  }
 },
 "nbformat": 4,
 "nbformat_minor": 2
}
